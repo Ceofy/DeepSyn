{
 "cells": [
  {
   "cell_type": "code",
   "execution_count": null,
   "metadata": {
    "ExecuteTime": {
     "start_time": "2018-08-07T17:10:51.719Z"
    }
   },
   "outputs": [
    {
     "name": "stdout",
     "output_type": "stream",
     "text": [
      "finished 0 1 mitotic nuclear division regulates\n",
      "finished 30000000 6 triglyceride transport octapressin\n",
      "finished 60000000 2 response to cortisone acupuncture therapy\n",
      "finished 0 7746784 was for\n",
      "finished 30000000 8 mitochondrial genome idiopathic\n"
     ]
    }
   ],
   "source": [
    "%reload_ext autoreload\n",
    "%autoreload 2\n",
    "    \n",
    "import sys\n",
    "import os\n",
    "repo_dir = '/srv/local/work/swang141/Sheng_repo/'\n",
    "nlp_tool_dir = '/srv/local/work/swang141/PatientSetAnnotation/Sheng/analysis/stanford_parser_java/stanford-parser-full-2017-06-09/'\n",
    "pubmed_dir = '/srv/local/work/swang141/PatientSetAnnotation/Sheng/data/pubmed/'\n",
    "sys.path.append(repo_dir)\n",
    "os.chdir(repo_dir)\n",
    "\n",
    "from pikachu.datasets.WordNet import WordNet\n",
    "from pikachu.datasets.ImprovedWordNet import ImprovedWordNet\n",
    "from pikachu.utils.nlp import parse_word_net\n",
    "from pikachu.models.generate_sentence.extractive_gen import ExtractGenSent\n",
    "from pikachu.datasets.SubGraph import SubGraph\n",
    "import operator\n",
    "import collections\n",
    "\n",
    "Net_obj = WordNet()\n",
    "pubmed_word_net = ['data/Pubmed/word_network/predict_abst_180717','data/Pubmed/word_network/all_abst_180305']\n",
    "Net_obj.ReadWordNet(pubmed_word_net,verbal=True,min_freq_cutoff=0)\n",
    "\n",
    "Net_obj.ReadWordType()\n",
    "\n",
    "stop_word_file = 'data/NLP_Dictionary/stopwords.txt'\n",
    "#stop_word_list = parse_word_net.GenerateStopWordList(Net_obj.word_ct,Net_obj.edge_ct,stop_word_file,Net_obj.word_type)\n",
    "stop_word_list = parse_word_net.GetStopWordList(stop_word_file)\n",
    "stop_word_list_manually = parse_word_net.GetStopWordList('data/NLP_Dictionary/stopwords_manually.txt')\n",
    "stop_word_list = stop_word_list.union(stop_word_list_manually)\n",
    "\n",
    "Net_obj.ReadEdgeType(stop_word_list)\n",
    "\n",
    "candidate_gene,monarch_d2g = Net_obj.ReadNodeTypeMonarchDiseaseGene()\n",
    "selected_kg_l = [Net_obj.literome_g2g,Net_obj.synonym_g2g,Net_obj.hpo_d2d,Net_obj.go_f2f]\n",
    "\n",
    "ImproveNet_obj = ImprovedWordNet(Net_obj,selected_kg_l)\n",
    "\n",
    "#result_dir = '/srv/local/work/swang141/PatientSetAnnotation/Sheng/result/network_flow/cancer/'\n",
    "\n",
    "gene_score = collections.defaultdict(dict)\n",
    "npath = collections.defaultdict(dict)\n",
    "ImproveNet_obj.reload()\n",
    "\n"
   ]
  },
  {
   "cell_type": "code",
   "execution_count": 2,
   "metadata": {
    "ExecuteTime": {
     "end_time": "2018-08-07T17:10:40.778269Z",
     "start_time": "2018-08-07T17:10:40.717264Z"
    }
   },
   "outputs": [
    {
     "ename": "NameError",
     "evalue": "name 'monarch_d2g' is not defined",
     "output_type": "error",
     "traceback": [
      "\u001b[0;31m---------------------------------------------------------------------------\u001b[0m",
      "\u001b[0;31mNameError\u001b[0m                                 Traceback (most recent call last)",
      "\u001b[0;32m<ipython-input-2-0c2ff7db5734>\u001b[0m in \u001b[0;36m<module>\u001b[0;34m()\u001b[0m\n\u001b[1;32m      8\u001b[0m \u001b[0mresult_dir\u001b[0m \u001b[0;34m=\u001b[0m \u001b[0;34m'/srv/local/work/swang141/Sheng_repo/result/network_flow/monarch/'\u001b[0m\u001b[0;34m\u001b[0m\u001b[0m\n\u001b[1;32m      9\u001b[0m \u001b[0;34m\u001b[0m\u001b[0m\n\u001b[0;32m---> 10\u001b[0;31m \u001b[0;32mfor\u001b[0m \u001b[0mci\u001b[0m\u001b[0;34m,\u001b[0m\u001b[0ms\u001b[0m \u001b[0;32min\u001b[0m \u001b[0menumerate\u001b[0m\u001b[0;34m(\u001b[0m\u001b[0mmonarch_d2g\u001b[0m\u001b[0;34m)\u001b[0m\u001b[0;34m:\u001b[0m\u001b[0;34m\u001b[0m\u001b[0m\n\u001b[0m\u001b[1;32m     11\u001b[0m     \u001b[0;32mif\u001b[0m \u001b[0ms\u001b[0m\u001b[0;34m==\u001b[0m\u001b[0;34m'all'\u001b[0m\u001b[0;34m:\u001b[0m\u001b[0;34m\u001b[0m\u001b[0m\n\u001b[1;32m     12\u001b[0m         \u001b[0;32mcontinue\u001b[0m\u001b[0;34m\u001b[0m\u001b[0m\n",
      "\u001b[0;31mNameError\u001b[0m: name 'monarch_d2g' is not defined"
     ]
    }
   ],
   "source": [
    "import numpy as np\n",
    "from pikachu.utils.evaluate.evaluate import evaluate_vec\n",
    "\n",
    "max_ngh = 200\n",
    "max_path_L = 4\n",
    "edge_wt_thres = 1\n",
    "max_dup_edge_type = 2\n",
    "result_dir = '/srv/local/work/swang141/Sheng_repo/result/network_flow/monarch/'\n",
    "\n",
    "for ci,s in enumerate(monarch_d2g):\n",
    "    if s=='all':\n",
    "        continue\n",
    "    print s,len(monarch_d2g[s])\n",
    "    predict = []\n",
    "    truth = []\n",
    "    for i,t in enumerate(candidate_gene):\n",
    "        if t not in monarch_d2g[s]:\n",
    "            a = np.random.rand(1)\n",
    "            if a>0.01:\n",
    "                continue\n",
    "        if not ImproveNet_obj.ValidPath(s,t):\n",
    "            continue\n",
    "        image_file = result_dir + s +'_' + t\n",
    "        for max_ngh in range(1,10,1):            \n",
    "            sub_graph = SubGraph(ImproveNet_obj,s,set([t]), max_path_L = max_path_L,edge_wt_thres = edge_wt_thres,max_ngh=max_ngh)\n",
    "            gene_score[s][t],npath[s][t],edge_list,node_list = sub_graph.CalSubGraphScore(image_file = image_file, max_dup_edge_type = max_dup_edge_type,dfs_max_depth=max_path_L+1)\n",
    "            if gene_score[s][t] > -1 and npath[s][t]>1:\n",
    "                print s,t,gene_score[s][t],npath[s][t],t in monarch_d2g[s],max_ngh\n",
    "                #SenGene_obj.get_graph_sentence(edge_list,image_file,Net_obj)\n",
    "                break\n",
    "        print i,len(candidate_gene),t in monarch_d2g[s]\n",
    "        predict.append(gene_score[s][t])\n",
    "        truth.append(int(t in monarch_d2g[s]))\n",
    "        auc_pred = evaluate_vec(predict,truth)[0]\n",
    "        print s, auc_pred"
   ]
  },
  {
   "cell_type": "code",
   "execution_count": null,
   "metadata": {},
   "outputs": [],
   "source": [
    "np.random.rand(1)"
   ]
  },
  {
   "cell_type": "code",
   "execution_count": null,
   "metadata": {
    "collapsed": true
   },
   "outputs": [],
   "source": []
  }
 ],
 "metadata": {
  "kernelspec": {
   "display_name": "Python 2",
   "language": "python",
   "name": "python2"
  },
  "language_info": {
   "codemirror_mode": {
    "name": "ipython",
    "version": 2
   },
   "file_extension": ".py",
   "mimetype": "text/x-python",
   "name": "python",
   "nbconvert_exporter": "python",
   "pygments_lexer": "ipython2",
   "version": "2.7.14"
  }
 },
 "nbformat": 4,
 "nbformat_minor": 2
}
