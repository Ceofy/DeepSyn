{
 "cells": [
  {
   "cell_type": "code",
   "execution_count": 1,
   "metadata": {},
   "outputs": [],
   "source": [
    "import json\n",
    "import ndex2\n",
    "import sys\n",
    "sys.path.insert(0, \"/data/cellardata/users/majianzhu/wangsheng/NetAnt/src/task/bionlp/server\")\n",
    "from run_server import load_data, run_query"
   ]
  },
  {
   "cell_type": "code",
   "execution_count": 2,
   "metadata": {},
   "outputs": [],
   "source": [
    "DATA_DIR = '/data/cellardata/users/netant/Data/'\n",
    "CACHE_DIR = '/data/cellardata/users/netant/Cache/'\n",
    "min_freq_cutoff=15"
   ]
  },
  {
   "cell_type": "code",
   "execution_count": 3,
   "metadata": {},
   "outputs": [
    {
     "name": "stdout",
     "output_type": "stream",
     "text": [
      "CPU times: user 37.5 s, sys: 6.79 s, total: 44.3 s\n",
      "Wall time: 59.4 s\n"
     ]
    }
   ],
   "source": [
    "%%time\n",
    "\n",
    "network_gene_list,G2G_obj,KnowledgeGraph_obj,stop_word_list=load_data(DATA_DIR,CACHE_DIR, dataset = 'disease',min_freq_cutoff=min_freq_cutoff)\n"
   ]
  },
  {
   "cell_type": "code",
   "execution_count": 74,
   "metadata": {
    "scrolled": false
   },
   "outputs": [
    {
     "name": "stdout",
     "output_type": "stream",
     "text": [
      "{'function': '', 'gene': ['hspa1a', 'hspa2', 'hspa6', 'parp1'], 'disease': ['asthma'], 'drug': ''}\n",
      "CPU times: user 24.8 s, sys: 8.37 s, total: 33.2 s\n",
      "Wall time: 33.5 s\n"
     ]
    }
   ],
   "source": [
    "%%time\n",
    "\n",
    "mygenes = ['HSPA1A', 'HSPA2', 'HSPA6', 'PARP1']\n",
    "mygenes = [i.lower() for i in mygenes]\n",
    "\n",
    "query = {}\n",
    "query['disease'] = ['asthma']\n",
    "query['drug'] = ''\n",
    "query['function'] = ''\n",
    "query['gene'] = mygenes\n",
    "nmax_node = 100\n",
    "\n",
    "print query\n",
    "\n",
    "G_obj = run_query(query, nmax_node, network_gene_list,G2G_obj,KnowledgeGraph_obj,stop_word_list,min_freq_cutoff=15,DATA_DIR=DATA_DIR)\n"
   ]
  },
  {
   "cell_type": "code",
   "execution_count": 75,
   "metadata": {
    "scrolled": false
   },
   "outputs": [
    {
     "data": {
      "text/plain": [
       "NodeView(('hspa2', 'lung morphogenesis', 'asthma', 'hspa6', 'epx', 'lung development', 'timeless', 'parp1', 'eosinophil activation', 'hspa1a', 'eosinophil differentiation', 'tst', 'basophil degranulation', 'wnt11'))"
      ]
     },
     "execution_count": 75,
     "metadata": {},
     "output_type": "execute_result"
    }
   ],
   "source": [
    "G_obj.node"
   ]
  },
  {
   "cell_type": "markdown",
   "metadata": {},
   "source": [
    "# Upload to NDEx"
   ]
  },
  {
   "cell_type": "code",
   "execution_count": 76,
   "metadata": {},
   "outputs": [
    {
     "name": "stdout",
     "output_type": "stream",
     "text": [
      "Generating CX\n"
     ]
    },
    {
     "data": {
      "text/plain": [
       "u'http://dev2.ndexbio.org/v2/network/2a991f71-ad14-11e9-a5da-0660b7976219'"
      ]
     },
     "execution_count": 76,
     "metadata": {},
     "output_type": "execute_result"
    }
   ],
   "source": [
    "network = ndex2.create_nice_cx_from_networkx(G_obj)\n",
    "\n",
    "# assuming object named 'network' is your nice CX object and stylecx is \n",
    "# full path to style.cx file I just attached to previous message\n",
    "network.apply_style_from_network(ndex2.create_nice_cx_from_file('/data/cellardata/users/majianzhu/wangsheng/NetAnt/src/task/bionlp/server/style_noarrow.cx'))\n",
    "# then for completeness\n",
    "pubmed = {'pubmed': 'http://identifiers.org/pubmed/'}\n",
    "network.set_network_attribute('@context', json.dumps(pubmed))\n",
    "\n",
    "network.upload_to(\n",
    "    'http://test.ndexbio.org', \n",
    "    'test2', 'test2'\n",
    ")"
   ]
  },
  {
   "cell_type": "code",
   "execution_count": null,
   "metadata": {},
   "outputs": [],
   "source": []
  }
 ],
 "metadata": {
  "kernelspec": {
   "display_name": "Python 2",
   "language": "python",
   "name": "python2"
  },
  "language_info": {
   "codemirror_mode": {
    "name": "ipython",
    "version": 2
   },
   "file_extension": ".py",
   "mimetype": "text/x-python",
   "name": "python",
   "nbconvert_exporter": "python",
   "pygments_lexer": "ipython2",
   "version": "2.7.15"
  }
 },
 "nbformat": 4,
 "nbformat_minor": 2
}
