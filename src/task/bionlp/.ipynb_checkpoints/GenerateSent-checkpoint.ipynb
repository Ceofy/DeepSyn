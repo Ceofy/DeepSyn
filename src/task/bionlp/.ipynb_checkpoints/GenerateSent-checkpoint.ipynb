{
 "cells": [
  {
   "cell_type": "code",
   "execution_count": 3,
   "metadata": {
    "ExecuteTime": {
     "end_time": "2018-07-23T00:44:34.222321Z",
     "start_time": "2018-07-23T00:44:34.068070Z"
    }
   },
   "outputs": [
    {
     "name": "stdout",
     "output_type": "stream",
     "text": [
      "data/Pubmed/word_network/predict_abst_180717\n"
     ]
    },
    {
     "ename": "ValueError",
     "evalue": "need more than 3 values to unpack",
     "output_type": "error",
     "traceback": [
      "\u001b[0;31m---------------------------------------------------------------------------\u001b[0m",
      "\u001b[0;31mValueError\u001b[0m                                Traceback (most recent call last)",
      "\u001b[0;32m<ipython-input-3-56322f0ba0b1>\u001b[0m in \u001b[0;36m<module>\u001b[0;34m()\u001b[0m\n\u001b[1;32m     21\u001b[0m \u001b[0mNet_obj\u001b[0m \u001b[0;34m=\u001b[0m \u001b[0mWordNet\u001b[0m\u001b[0;34m(\u001b[0m\u001b[0;34m)\u001b[0m\u001b[0;34m\u001b[0m\u001b[0m\n\u001b[1;32m     22\u001b[0m \u001b[0;34m\u001b[0m\u001b[0m\n\u001b[0;32m---> 23\u001b[0;31m \u001b[0mNet_obj\u001b[0m\u001b[0;34m.\u001b[0m\u001b[0mReadWordNet\u001b[0m\u001b[0;34m(\u001b[0m\u001b[0mpubmed_word_net\u001b[0m\u001b[0;34m,\u001b[0m\u001b[0mverbal\u001b[0m\u001b[0;34m=\u001b[0m\u001b[0mTrue\u001b[0m\u001b[0;34m,\u001b[0m\u001b[0mmin_freq_cutoff\u001b[0m\u001b[0;34m=\u001b[0m\u001b[0;36m2\u001b[0m\u001b[0;34m)\u001b[0m\u001b[0;34m\u001b[0m\u001b[0m\n\u001b[0m\u001b[1;32m     24\u001b[0m \u001b[0mNet_obj\u001b[0m\u001b[0;34m.\u001b[0m\u001b[0mReadWordType\u001b[0m\u001b[0;34m(\u001b[0m\u001b[0;34m)\u001b[0m\u001b[0;34m\u001b[0m\u001b[0m\n\u001b[1;32m     25\u001b[0m \u001b[0mstop_word_file\u001b[0m \u001b[0;34m=\u001b[0m \u001b[0;34m'data/NLP_Dictionary/stopwords.txt'\u001b[0m\u001b[0;34m\u001b[0m\u001b[0m\n",
      "\u001b[0;32m/srv/local/work/swang141/Sheng_repo/pikachu/datasets/WordNet.py\u001b[0m in \u001b[0;36mReadWordNet\u001b[0;34m(self, file_name, verbal, print_every, min_freq_cutoff)\u001b[0m\n\u001b[1;32m     13\u001b[0m                 \u001b[0;32mfor\u001b[0m \u001b[0mct\u001b[0m\u001b[0;34m,\u001b[0m\u001b[0mline\u001b[0m \u001b[0;32min\u001b[0m \u001b[0menumerate\u001b[0m\u001b[0;34m(\u001b[0m\u001b[0mfin\u001b[0m\u001b[0;34m)\u001b[0m\u001b[0;34m:\u001b[0m\u001b[0;34m\u001b[0m\u001b[0m\n\u001b[1;32m     14\u001b[0m                         \u001b[0mw\u001b[0m \u001b[0;34m=\u001b[0m \u001b[0mline\u001b[0m\u001b[0;34m.\u001b[0m\u001b[0mstrip\u001b[0m\u001b[0;34m(\u001b[0m\u001b[0;34m)\u001b[0m\u001b[0;34m.\u001b[0m\u001b[0msplit\u001b[0m\u001b[0;34m(\u001b[0m\u001b[0;34m'\\t'\u001b[0m\u001b[0;34m)\u001b[0m\u001b[0;34m\u001b[0m\u001b[0m\n\u001b[0;32m---> 15\u001b[0;31m                         \u001b[0mw1\u001b[0m\u001b[0;34m,\u001b[0m\u001b[0mc1\u001b[0m\u001b[0;34m,\u001b[0m\u001b[0mw2\u001b[0m\u001b[0;34m,\u001b[0m\u001b[0mc2\u001b[0m\u001b[0;34m,\u001b[0m\u001b[0mc12\u001b[0m \u001b[0;34m=\u001b[0m \u001b[0mw\u001b[0m\u001b[0;34m[\u001b[0m\u001b[0;36m0\u001b[0m\u001b[0;34m:\u001b[0m\u001b[0;36m5\u001b[0m\u001b[0;34m]\u001b[0m\u001b[0;34m\u001b[0m\u001b[0m\n\u001b[0m\u001b[1;32m     16\u001b[0m                         \u001b[0mc1\u001b[0m \u001b[0;34m=\u001b[0m \u001b[0mint\u001b[0m\u001b[0;34m(\u001b[0m\u001b[0mc1\u001b[0m\u001b[0;34m)\u001b[0m\u001b[0;34m\u001b[0m\u001b[0m\n\u001b[1;32m     17\u001b[0m                         \u001b[0mc2\u001b[0m \u001b[0;34m=\u001b[0m \u001b[0mint\u001b[0m\u001b[0;34m(\u001b[0m\u001b[0mc2\u001b[0m\u001b[0;34m)\u001b[0m\u001b[0;34m\u001b[0m\u001b[0m\n",
      "\u001b[0;31mValueError\u001b[0m: need more than 3 values to unpack"
     ]
    }
   ],
   "source": [
    "%reload_ext autoreload\n",
    "%autoreload 2\n",
    "    \n",
    "import sys\n",
    "import os\n",
    "repo_dir = '/srv/local/work/swang141/Sheng_repo/'\n",
    "nlp_tool_dir = '/srv/local/work/swang141/PatientSetAnnotation/Sheng/analysis/stanford_parser_java/stanford-parser-full-2017-06-09/'\n",
    "pubmed_dir = '/srv/local/work/swang141/PatientSetAnnotation/Sheng/data/pubmed/'\n",
    "sys.path.append(repo_dir)\n",
    "os.chdir(repo_dir)\n",
    "\n",
    "from pikachu.datasets.WordNet import WordNet\n",
    "from pikachu.datasets.ImprovedWordNet import ImprovedWordNet\n",
    "from pikachu.utils.nlp import parse_word_net\n",
    "from pikachu.models.generate_sentence.extractive_gen import ExtractGenSent\n",
    "from pikachu.datasets.SubGraph import SubGraph\n",
    "import operator\n",
    "import collections\n",
    "\n",
    "pubmed_word_net = 'data/Pubmed/word_network/predict_abst_180717'\n",
    "pubmed_word_net = 'data/Pubmed/word_network/predict_abst_180717'\n",
    "Net_obj = WordNet()\n",
    "\n",
    "Net_obj.ReadWordNet(pubmed_word_net,verbal=True,min_freq_cutoff=2)\n",
    "Net_obj.ReadWordType()\n",
    "stop_word_file = 'data/NLP_Dictionary/stopwords.txt'\n",
    "#stop_word_list = parse_word_net.GenerateStopWordList(Net_obj.word_ct,Net_obj.edge_ct,stop_word_file,Net_obj.word_type)\n",
    "stop_word_list = parse_word_net.GetStopWordList(stop_word_file)\n",
    "\n",
    "stop_word_list_manually = parse_word_net.GetStopWordList('data/NLP_Dictionary/stopwords_manually.txt')\n",
    "stop_word_list = stop_word_list.union(stop_word_list_manually)\n",
    "Net_obj.ReadWordType()\n",
    "Net_obj.ReadEdgeType(stop_word_list)\n",
    "\n",
    "candidate_gene,cancer_d2g = Net_obj.ReadNodeTypeCancerGene()\n",
    "selected_kg_l = [Net_obj.literome_g2g,Net_obj.synonym_g2g,Net_obj.hpo_d2d,Net_obj.go_f2f]\n",
    "\n",
    "ImproveNet_obj = ImprovedWordNet(Net_obj,selected_kg_l)\n",
    "\n",
    "#result_dir = '/srv/local/work/swang141/PatientSetAnnotation/Sheng/result/network_flow/cancer/'\n",
    "\n",
    "\n",
    "gene_score = collections.defaultdict(dict)\n",
    "npath = collections.defaultdict(dict)\n",
    "ImproveNet_obj.reload()\n",
    "\n",
    "'''\n",
    "for ci,s in enumerate(cancer_d2g):\n",
    "    print s,len(cancer_d2g[s])\n",
    "    for i,t in enumerate(cancer_d2g[s]):\n",
    "        if not ImproveNet_obj.ValidPath(s,t):\n",
    "            continue\n",
    "        image_file = result_dir + s +'_' + t\n",
    "        for max_ngh in range(1,10,1):            \n",
    "            sub_graph = SubGraph(ImproveNet_obj,s,set([t]), max_path_L = max_path_L,edge_wt_thres = edge_wt_thres,max_ngh=max_ngh)\n",
    "            gene_score[s][t],npath[s][t],edge_list,node_list = sub_graph.CalSubGraphScore(image_file = image_file, max_dup_edge_type = max_dup_edge_type,dfs_max_depth=max_path_L+1)\n",
    "            if gene_score[s][t] > -1 and npath[s][t]>1:\n",
    "                print s,t,gene_score[s][t],npath[s][t],t in cancer_d2g[s],max_ngh\n",
    "                SenGene_obj.get_graph_sentence(edge_list,image_file,Net_obj)\n",
    "                break\n",
    "'''"
   ]
  },
  {
   "cell_type": "code",
   "execution_count": 18,
   "metadata": {
    "ExecuteTime": {
     "end_time": "2018-05-23T07:09:51.139772Z",
     "start_time": "2018-05-23T06:53:50.187044Z"
    },
    "scrolled": true
   },
   "outputs": [
    {
     "name": "stdout",
     "output_type": "stream",
     "text": [
      "dnmt1 tp53   -1\n",
      "transcriptional activity cabin1   -1\n",
      "emp1 tp53 from database  0\n",
      "human hepatoma transcriptional activity   -1\n",
      "human hepatoma egf   -1\n",
      "human hepatoma cell cycle   -1\n",
      "human hepatoma transient transfection   -1\n",
      "human hepatoma cyp3a4   -1\n",
      "western blot emp1   -1\n",
      "myc tp53 deregulation of myc and tp53 through genetic and epigenetic alterations in myc tp53  0.23602484472\n",
      "cat tp53 from database  0\n",
      "kidney cell line transient transfection   -1\n",
      "kidney cell line cat   -1\n",
      "cabin1 tp53 from database  0\n",
      "cell line hepg2 rat hepatocyte   -1\n",
      "cell line hepg2 human cell lines   -1\n",
      "cell line hepg2 transcriptional activity   -1\n",
      "cell line hepg2 c-myc   -1\n",
      "cell line hepg2 human hepatocyte   -1\n",
      "cell line hepg2 hepatocellular cancer   -1\n",
      "cell line hepg2 human primary hepatocytes   -1\n",
      "cell line hepg2 primary rat hepatocytes   -1\n",
      "cell line hepg2 human hepatocytes   -1\n",
      "cell line hepg2 breast cancer cell line   -1\n",
      "cell line hepg2 transient transfection   -1\n",
      "cell line hepg2 western blot   -1\n",
      "cell line hepg2 tumor cell line   -1\n",
      "cell line hepg2 kidney cell line   -1\n",
      "cell line hepg2 expression vectors   -1\n",
      "ccnb1 tp53  we demonstrate by western analysis that the expression levels of tp53 formerly known as p53 cdkn1a formerly known as p21waf1 cdc2 formerly known as p34cdc2 ccnb1 cyclin b1 and rad51 are significantly modulated in confluent density-inhibited human diploid cell populations exposed to doses where only a small fraction of the nuclei are actually traversed by an alpha-particle track ccnb1 b1 known cdc2 known cdkn1a known tp53  0.0196463654224\n",
      "gh1 tp53  six out of eight loci were identified in the bac library nf1 cryb1 chrnb1 tp53 gh1 and p4hb gh1 tp53  0.0118343195266\n",
      "reverse transcription dynll1   -1\n",
      "xpa tp53   -1\n",
      "human primary hepatocytes cyp3a4   -1\n",
      "primary rat hepatocytes cell cycle   -1\n",
      "primary rat hepatocytes egf   -1\n",
      "primary rat hepatocytes primary human hepatocytes  e2 triggered nuclear translocation of car in primary rat hepatocytes that were transiently transfected with human car as well as in primary human hepatocytes further confirming transactivation of car by e2 primary_rat_hepatocytes transfected car primary_human_hepatocytes  0.00709219858156\n",
      "colon carcinoma cell line c-myc   -1\n",
      "colon carcinoma cell line cell line hct116  methods colon carcinoma cell line hct116 was stably transfected with hnis thus producing a cell line hct116-c19 with high hnis expression colon_carcinoma_cell_line transfected producing cell_line_hct116  0.0147058823529\n",
      "colon carcinoma cell line egf   -1\n",
      "breast cancer cell line pfn1   -1\n",
      "breast cancer cell line hrg   -1\n",
      "hepg2 cell line cell cycle   -1\n",
      "hepg2 cell line cyp3a4   -1\n",
      "hrg tp53 from database  0\n",
      "liver hepatocellular carcinoma hepatocellular carcinoma cell line monolayer and spheroid culture of human liver hepatocellular carcinoma cell line Stanford NLP tool error 0.0\n",
      "rat hepatocyte human hepatocytes   -1\n",
      "rat hepatocyte egf   -1\n",
      "human cell lines xpa   -1\n",
      "btg1 tp53 from database  0\n",
      "primary hepatocytes transcriptional activity   -1\n",
      "primary hepatocytes c-myc   -1\n",
      "primary hepatocytes egf   -1\n",
      "primary hepatocytes transient transfection   -1\n",
      "primary hepatocytes cyp3a4   -1\n",
      "usf2 tp53 from database  0\n",
      "pfn1 tp53 from database  0\n",
      "human hepatocytes cyp3a4   -1\n",
      "transient transfection hla-dra   -1\n",
      "cyp3a4 tp53 from database  0\n",
      "expression vectors usf2   -1\n",
      "primary human hepatocytes primary hepatocytes   -1\n",
      "primary human hepatocytes cyp3a4   -1\n",
      "hla-dra tp53 from database  0\n",
      "c-myc myc from database  0\n",
      "dynll1 tp53 from database  0\n",
      "human hepatocyte hepg2 cell line  therefore the role of cell-to-cell interactions in herbal induced liver toxicity was investigated in monocultures of cells from the human hepatocyte cell line hepg2 and in co-cultures of cells from the hepg2 cell line and cells from the human monocyte cell line thp1 human_hepatocyte hepg2 cells hepg2_cell_line  0.00680272108844\n",
      "human hepatocyte human hepatoma   -1\n",
      "human hepatocyte cyp3a4   -1\n",
      "hepatocellular carcinoma cell line cell line hepg2   -1\n",
      "hepatocellular carcinoma cell line reverse transcription   -1\n",
      "hepatocellular carcinoma cell line c-myc   -1\n",
      "hepatocellular carcinoma cell line colon carcinoma cell line  the antiproliferative effect of the compounds was evaluated in vitro using the mtt colorimetric method against one normal cell line ndf-103 skin fibroblast cells and four human cancer cell lines mcf-7 breast carcinoma cell line hepg-2 hepatocellular carcinoma cell line hela cervix carcinoma cell line and ht-29 colon carcinoma cell line for the time period of 24 h hepatocellular_carcinoma_cell_line line colon_carcinoma_cell_line  0.00772200772201\n",
      "hepatocellular carcinoma cell line breast cancer cell line   -1\n",
      "hepatocellular carcinoma cell line cell cycle   -1\n",
      "egf tp53 from database  0\n",
      "hepatocellular cancer btg1 immunohistochemistry and western blot were used to analyze btg1 protein expression in 70 cases of hepatocellular cancer and 32 cases of normal tissues to study the relationship between btg1 expression and clinical factors hepatocellular_cancer cases expression btg1  0.0141342756184\n",
      "tumor cell line breast cancer cell line   -1\n",
      "tumor cell line cell line hct116   -1\n",
      "tumor cell line gh1   -1\n",
      "cell cycle ccnb1   -1\n",
      "cell line hct116 dnmt1   -1\n",
      "{('colon carcinoma cell line', 'c-myc'): '', ('xpa', 'tp53'): '', ('cell line hepg2', 'human primary hepatocytes'): '', ('human hepatocytes', 'cyp3a4'): '', ('gh1', 'tp53'): ' six out of eight loci were identified in the bac library nf1 cryb1 chrnb1 tp53 gh1 and p4hb', ('cell line hct116', 'dnmt1'): '', ('hepg2 cell line', 'cyp3a4'): '', ('human hepatoma', 'egf'): '', ('primary hepatocytes', 'c-myc'): '', ('hepatocellular carcinoma cell line', 'colon carcinoma cell line'): ' the antiproliferative effect of the compounds was evaluated in vitro using the mtt colorimetric method against one normal cell line ndf-103 skin fibroblast cells and four human cancer cell lines mcf-7 breast carcinoma cell line hepg-2 hepatocellular carcinoma cell line hela cervix carcinoma cell line and ht-29 colon carcinoma cell line for the time period of 24 h', ('cell line hepg2', 'expression vectors'): '', ('cell line hepg2', 'transient transfection'): '', ('human hepatocyte', 'human hepatoma'): '', ('cell line hepg2', 'human hepatocyte'): '', ('reverse transcription', 'dynll1'): '', ('tumor cell line', 'cell line hct116'): '', ('primary human hepatocytes', 'primary hepatocytes'): '', ('cell line hepg2', 'kidney cell line'): '', ('tumor cell line', 'breast cancer cell line'): '', ('kidney cell line', 'transient transfection'): '', ('tumor cell line', 'gh1'): '', ('human hepatocyte', 'cyp3a4'): '', ('cell line hepg2', 'human cell lines'): '', ('primary hepatocytes', 'cyp3a4'): '', ('expression vectors', 'usf2'): '', ('cell line hepg2', 'human hepatocytes'): '', ('cell line hepg2', 'transcriptional activity'): '', ('breast cancer cell line', 'hrg'): '', ('primary rat hepatocytes', 'egf'): '', ('cell line hepg2', 'rat hepatocyte'): '', ('primary human hepatocytes', 'cyp3a4'): '', ('hepatocellular carcinoma cell line', 'reverse transcription'): '', ('liver hepatocellular carcinoma', 'hepatocellular carcinoma cell line'): 'monolayer and spheroid culture of human liver hepatocellular carcinoma cell line', ('kidney cell line', 'cat'): '', ('cell line hepg2', 'tumor cell line'): '', ('human hepatoma', 'transient transfection'): '', ('dnmt1', 'tp53'): '', ('cell line hepg2', 'western blot'): '', ('transcriptional activity', 'cabin1'): '', ('cell cycle', 'ccnb1'): '', ('cell line hepg2', 'primary rat hepatocytes'): '', ('human hepatoma', 'cyp3a4'): '', ('hepatocellular carcinoma cell line', 'cell cycle'): '', ('human hepatoma', 'transcriptional activity'): '', ('primary hepatocytes', 'egf'): '', ('hepg2 cell line', 'cell cycle'): '', ('hepatocellular carcinoma cell line', 'breast cancer cell line'): '', ('rat hepatocyte', 'egf'): '', ('rat hepatocyte', 'human hepatocytes'): '', ('cell line hepg2', 'breast cancer cell line'): '', ('western blot', 'emp1'): '', ('human cell lines', 'xpa'): '', ('human hepatocyte', 'hepg2 cell line'): ' therefore the role of cell-to-cell interactions in herbal induced liver toxicity was investigated in monocultures of cells from the human hepatocyte cell line hepg2 and in co-cultures of cells from the hepg2 cell line and cells from the human monocyte cell line thp1', ('hepatocellular carcinoma cell line', 'cell line hepg2'): '', ('colon carcinoma cell line', 'cell line hct116'): ' methods colon carcinoma cell line hct116 was stably transfected with hnis thus producing a cell line hct116-c19 with high hnis expression', ('primary rat hepatocytes', 'primary human hepatocytes'): ' e2 triggered nuclear translocation of car in primary rat hepatocytes that were transiently transfected with human car as well as in primary human hepatocytes further confirming transactivation of car by e2', ('colon carcinoma cell line', 'egf'): '', ('human primary hepatocytes', 'cyp3a4'): '', ('primary rat hepatocytes', 'cell cycle'): '', ('ccnb1', 'tp53'): ' we demonstrate by western analysis that the expression levels of tp53 formerly known as p53 cdkn1a formerly known as p21waf1 cdc2 formerly known as p34cdc2 ccnb1 cyclin b1 and rad51 are significantly modulated in confluent density-inhibited human diploid cell populations exposed to doses where only a small fraction of the nuclei are actually traversed by an alpha-particle track', ('cell line hepg2', 'hepatocellular cancer'): '', ('cell line hepg2', 'c-myc'): '', ('hepatocellular cancer', 'btg1'): 'immunohistochemistry and western blot were used to analyze btg1 protein expression in 70 cases of hepatocellular cancer and 32 cases of normal tissues to study the relationship between btg1 expression and clinical factors', ('myc', 'tp53'): 'deregulation of myc and tp53 through genetic and epigenetic alterations in', ('transient transfection', 'hla-dra'): '', ('primary hepatocytes', 'transient transfection'): '', ('primary hepatocytes', 'transcriptional activity'): '', ('breast cancer cell line', 'pfn1'): '', ('human hepatoma', 'cell cycle'): '', ('hepatocellular carcinoma cell line', 'c-myc'): ''}\n"
     ]
    }
   ],
   "source": [
    "result_dir = '/srv/local/work/swang141/Sheng_repo/result/network_flow/cancer/'\n",
    "SenGene_obj = ExtractGenSent(repo_dir,nlp_tool_dir,pubmed_dir)\n",
    "t = ['bptf','tp53']\n",
    "s = 'liver hepatocellular carcinoma'\n",
    "image_file = result_dir + s +'_' + t[0]\n",
    "\n",
    "max_ngh = 200\n",
    "max_path_L = 4\n",
    "edge_wt_thres = 1\n",
    "max_dup_edge_type = 2\n",
    "\n",
    "sub_graph = SubGraph(ImproveNet_obj,s,set(t), max_path_L = max_path_L,edge_wt_thres = edge_wt_thres,max_ngh=max_ngh)\n",
    "gene_score,npath,edge_list,node_list = sub_graph.CalSubGraphScore(image_file = image_file, max_dup_edge_type = max_dup_edge_type,dfs_max_depth=max_path_L+1)\n",
    "SenGene_obj.get_graph_sentence(edge_list,image_file,Net_obj)\n",
    "print SenGene_obj.edge2sent"
   ]
  },
  {
   "cell_type": "code",
   "execution_count": null,
   "metadata": {
    "collapsed": true,
    "scrolled": true
   },
   "outputs": [],
   "source": [
    "%reload_ext autoreload\n",
    "%autoreload 2\n",
    "    \n",
    "import sys\n",
    "import os\n",
    "\n",
    "#repo_dir = '/srv/local/work/swang141/Sheng_repo/'\n",
    "repo_dir = '/data/cellardata/users/majianzhu/wangsheng/Sheng_repo/Sheng_repo/'\n",
    "\n",
    "sys.path.append(repo_dir)\n",
    "os.chdir(repo_dir)\n",
    "from pikachu.models.generate_sentence.preprocess_parser_tree import preprocess_parser_tree\n",
    "from pikachu.models.generate_sentence.preprocess_word_sent import get_sentence_edge\n",
    "sent_l = get_sentence_edge(\"dysplastic_nevus_syndrome\", 'bap1')\n",
    "\n",
    "parser_obj = preprocess_parser_tree()\n",
    "vocab_score,path_l,stem_word_list_l = parser_obj.get_parser_tree(\"dysplastic_nevus_syndrome\", 'bap1',sent_l)"
   ]
  },
  {
   "cell_type": "code",
   "execution_count": 11,
   "metadata": {
    "ExecuteTime": {
     "end_time": "2018-05-23T06:41:03.073693Z",
     "start_time": "2018-05-23T06:41:03.055420Z"
    }
   },
   "outputs": [
    {
     "name": "stdout",
     "output_type": "stream",
     "text": [
      "{('human gastric adenocarcinoma', 'gastric cancer cell lines'): '', ('recombinant adenoviral vector', 'transfection'): '', ('smmc7721 cells', 'cell cycle'): '', ('pgam1', 'tp53'): ' we found that the glycolytic enzyme phosphoglycerate mutase 1 pgam1 commonly upregulated in human cancers due to loss of tp53 contributes to biosynthesis regulation in part by controlling intracellular levels of its substrate 3-phosphoglycerate 3-pg and product 2-phosphoglycerate 2-pg', ('hep g2', 'human liver cancer cells'): ' one of the significant outcomes of the present study is the toxification of the prodrug 1 a by the endogenous beta-galactosidase of human liver cancer cells hep g2 to form the cytotoxic moiety enabling selective therapy of hepatocellular carcinoma', ('trpv1 antagonist', 'afferent neurons'): '', ('lung squamous cell carcinoma', 'rpp40'): 'in recent studies a rabbit polyclonal p40 rpp40 antibody demonstrated equivalent staining versus anti-p63 in lung squamous cell carcinoma and superior specificity because it stains a lesser percentage of lung adenocarcinoma', ('cell line hepg2', 'human hepatoma cell lines'): '', ('human cell lines', 'cell lines displaying'): '', ('human cervical cancer cells', 'protein expressions'): '', ('pancreatic cancer cell line', 'gastric cancer cell lines'): '', ('human primary hepatocytes', 'ht29 colon'): ' results gsh depletion enhanced apoptosis induced by trailcisplatin cddp or trail5-fluorouracil 5-fu combinations in both human ht29 colon carcinoma and hepg2 hepatocarcinoma cells whereas it enhanced cytotoxicity induced only by trailcddp in human primary hepatocytes', ('transfection reagent', 'poly ic'): '', ('cytotoxic potential', 'pregnant uterus'): '', ('human hepatocellular carcinoma cell', 'proteome analysis'): '', ('vimentin expression', 'bptf'): ' additionally high bptf expression is correlated with high vimentin expression and low e-cadherin expression p < 0', ('hepatocellular carcinoma cell line', 'human hepatocellular carcinoma cell'): 'breviscapine-induced apoptosis of human hepatocellular carcinoma cell line hepg2', ('human colorectal adenocarcinoma', 'ovarian carcinoma cell lines'): ' in 2 of 15 13 ovarian carcinoma cell lines ovcar5 epithelial carcinoma and skov3 clear cell carcinoma fdg accumulation was lower than that in the control cell line with the lowest fdg accumulation ht-29 human colorectal adenocarcinoma at one or more time points p < 0', ('hep g2', 'induced apoptotic cell death'): ' these results demonstrated that isl treatment inhibited the nf-kappab cell survival-signaling pathway and induced apoptotic cell death in hep g2 cells', ('low micromolar', 'vrk1'): '', ('normoxic conditions', 'siah2'): '', ('gastroprotective effect', 'normal lung fibroblasts'): ' the aim of this work was to assess the gastroprotective effect of amino acid amides from imbricatolic acid and its 89-en isomer in the ethanolhcl-induced gastric lesions model in mice as well as to determine the cytotoxicity of the obtained compounds on the following human cell lines normal lung fibroblasts mrc-5 gastric adenocarcinoma ags and liver hepatocellular carcinoma hep g2', ('hep g2', 'human cervical cancer cells'): ' the cytotoxic properties of generation two to four were tested on three different human cancer cell lines skbr3 human breast cancer cells hela human cervical cancer cells and hep g2 human hepatocellular liver carcinoma cells and compared to the toxicity of amine terminated pamam dendrimers', ('cancer cell lines', 'linc00663'): '', ('hepatocellular carcinoma cell lines', 'western blot'): '', ('ptpn13', 'tp53'): ' ipa analyses showed adenocarcinoma-specific promoter dmxde overlay identified familiar lung cancer nodes tp53 akt as well as less familiar nodes hbegf nqo1 grk5 vwf hpgd cdh5 ctnnal1 ptpn13 dach1 smad6 lama3 ar', ('hepatocellular carcinoma cell lines', 'hepatocellular carcinoma tissues'): 'immunofluorescence microscopy and immunohistochemistry results showed that p120 catenin expressed at cell to cell contact region and at cell membrane in normal liver cells and in normal liver tissues while in hepatocellular carcinoma cell lines and in hepatocellular carcinoma tissues the molecule expression increased in cytosol membrane expression reduced and there was nuclear translocation', ('normal lung fibroblasts', 'human cell lines'): '', ('recombinant adenoviral vector', 'growth suppression'): '', ('cytotoxic potential', 'potent cytotoxic'): '', ('potent cytotoxic', 'cancer cell lines'): '', ('pancreatic cancer cell line', 'short hairpin rna'): '', ('cell line a549', 'cell line k562'): ' in vitro evaluation of anticancer activity against human lung adenocarcinoma cell line a549 and human erythroleukemic cell line k562 were conducted using 3-45-dimethylthiazol-2-yl-25-diphenyl tetrazolium bromide mtt assay', ('inhibited cell proliferation', 'mir203'): '', ('human colorectal adenocarcinoma', 'ic50 values'): '', ('human cervical cancer cells', 'human liver cancer cells'): ' the results of the 3-45-dimethylthiazol-2-yl-25-diphenyltetrazolium bromide assay showed that the mnps were non-toxic against human brain cancer cells sh-sy5y human cervical cancer cells hela human liver cancer cells hepg2 breast cancer cells mcf-7 colon cancer cells caco2 and human prostate cancers du 145 pc3 tested herein', ('cytotoxic potential', 'dnk cells'): '', ('hepatocellular carcinoma cell lines', 'colorectal carcinoma cell lines'): ' this study demonstrates that methylation of the collagen alpha2i gene transcription start site occurs frequently in human cancer cell lines 9 of 10 including breast cancer cell lines mcf-7 and hs578t hepatocellular carcinoma cell lines snu387 snu449 snu398 and plcprf5 a fibrosarcoma cell line ht1080 and colorectal carcinoma cell lines hct116 sw480 and sw620', ('pregnant uterus', 'prap1'): ' secretory protein proline-rich acid protein 1 prap1 is abundantly expressed in late pregnant uterus', ('pancreatic carcinoma cell line', 'short hairpin rna'): '', ('expression profiles', 'pmaip1'): '', ('transfected cell lines', 'mouse tissues'): '', ('maspin expression', 'melanoma progression'): 'maspin expression and melanoma progression a matter of sub-cellular', ('hepg2 cell line', 'human liver cells'): ' we have developed an assay in transformed human liver cells to simultaneously measure the transcriptional responses of 14 stress promoter- or response element-chloramphenicol acetyl transferase cat fusion constructs that are stably integrated into the hepg2 cell line', ('cell line l02', 'expression level'): '', ('mammary adenocarcinoma', 'metastatic lung'): '', ('gastric cancer cell line', 'breast cancer cell line'): '', ('liver cancer cells', 'cervical cancer cells'): '', ('chang liver cells', 'cell viability'): '', ('hepatocellular carcinoma cell lines', 'induced apoptosis'): '', ('cell line l02', 'cancer cell lines'): '', ('ovarian carcinoma cell lines', 'napa'): '', ('transfection efficiency', 'transfection reagent'): '', ('liver hepatocellular carcinoma', 'lung squamous cell carcinoma'): 'materials and methods one hundred and fifty-two pharmacogenes were selected from liver hepatocellular carcinoma lung squamous cell carcinoma lusc acute myeloid leukemia and lymphoid neoplasm diffuse large b-cell lymphoma dlbl', ('gastric epithelial', 'gastric cancer cell line'): ' to investigate the effects of caga protein carboxyl region variations on the transcription of genes involved in gastric epithelial carcinogenesis pathways the eukaryotic vector carrying the caga gene abc and abccc types was transfected into gastric cancer cell line', ('hepatocellular carcinoma cell lines', 'hep 3b'): ' all of the synthetic compounds were tested for their capability to suppress growth of the human hepatocellular carcinoma cell lines sk-hep-1 and hep 3b', ('human hepatoma cell lines', 'human liver cells'): \" antitumor effects of nine components of a herbal medicine 'sho-saiko-to' were investigated on human hepatoma cell lines plcprf5 hep-g2 human liver cells chang and a human pancreatic cancer cell line bxpc-3\", ('human hepatocellular carcinoma cell', 'breast cancer cell line'): '', ('epithelial carcinoma cells', 'cell cycle'): '', ('gastroprotective effect', 'constitutive nos'): ' chronic treatment with pioglitazone exerts an enhanced gastroprotective effect on the stomach ulcers of cholestatic rats compared to sham rats probably due to constitutive nos induction andor inducible nos inhibition and attenuating release of tnf-alpha', ('induced apoptosis', 'inhibited cell proliferation'): '', ('cell line a431', 'squamous cancer'): 'moreover icotinib induced cell cycle arrested and affected expression of various cell cycle related proteins in squamous cancer cell line a431 whereas it did not cause apoptosis', ('lung scc', 'emt markers'): 'gli1 expression was reversely associated with the expression of emt markers e-cadherin and beta-catenin in lung scc specimens', ('human cell lines', 'ht29 colon'): '', ('hep 3b cells', 'cell cycle'): '', ('dn t cells', 'ndn'): ' by doing so we hope to provoke a new discussion that may lead to a consensus about the origin of lpr dn t cells and regulation of their homeostasis by the fas pathway and reignite wider interest in ndn t cells', ('hepatocellular carcinoma cell line', 'proteome analysis'): '', ('cervical cancer cell line', 'hpv16 e6'): 'this study was to evaluate the specific inhibitory effect and time-efficiency of rna interference rnai on hpv16 e6 gene in cervical cancer cell line caski', ('liver hepatocellular carcinoma', 'human colorectal adenocarcinoma'): 'the in vitro cytotoxic potential of the complexes 1-3 against human cervical carcinoma hela human liver hepatocellular carcinoma hepg-2 and human colorectal adenocarcinoma ht-29 cells indicated their promising antitumor activity with quite low ic50 values in the range of 0', ('human hepatocellular carcinoma cell', 'low metastatic'): ' swath-pseudo-iptl was also applied to the quantitative profiling of the proteome from human hepatocellular carcinoma cell lines with high and low metastatic potential and most of the differentially expressed proteins were related to tumorigenesis and tumor metastasis demonstrating the feasibility of this methodology for biological applications', ('cancer cell lines', 'gtse1'): '', ('cell line hepg2', 'cervical cancer cell line'): '', ('mdr1 mrna', 'expression level'): '', ('ht29 colon', 'cdx1'): ' we have previously reported that down-regulation of cdx1 and cdx2 mrna expression is associated with colon carcinogenesis and that coordinated reexpression of these genes in the ht29 colon cancer-derived cell line leads to a reduced malignant phenotype', ('gastric cancer cell lines', 'ldoc1'): '', ('hela cell lines', 'luciferase reporter'): '', ('amelanotic melanoma', 'melanoma progression'): ' results it was observed that during melanoma progression the sensitivity of those two melanoma line cells to the antiproliferative effect of il-6 and osm did not change while a spontaneous alteration of the melanotic line into an amelanotic one seemed to be accompanied by resistance of the amelanotic melanoma cells to the antiproliferative activity of tnf-alpha', ('normal colorectal mucosa', 'tissue samples'): '', ('human primary hepatocytes', 'transcript levels'): '', ('apoptosis inducing', 'tnfrsf10a'): ' the tumor necrosis factor-related apoptosis inducing ligand trail receptors including tnfrsf10a and tnfrsf10b are located within this chromosomal region', ('liver hepatocellular carcinoma', 'normal lung fibroblasts'): 'the new compounds were evaluated for their gastroprotective effect in the ethanolhcl-induced gastric lesions model in mice as well as for cytotoxicity using the following human cell lines normal lung fibroblasts mrc-5 gastric adenocarcinoma cells ags and liver hepatocellular carcinoma hep g2', ('human hcc cell lines', 'cell lines displaying'): ' when human hcc cell lines displaying different levels of afp and non-hepatocyte tumor cell lines were transfected with the recombinant plasmid il-2 was expressed highly in afp and albumin-positive hcc cells but low in nonhepatocyte tumor cells', ('cytotoxic potential', 'mycn expression'): '', ('hep 3b', 'hepatocellular cancer'): ' here the effects of eb1089 were evaluated in hep 3b skhep-1 plcprf5 htc and novikoff hepatocellular cancer hcc cell lines', ('cell line hepg2', 'human gastric adenocarcinoma'): '', ('liver hepatocellular carcinoma', 'cytotoxic potential'): '', ('hepatocellular carcinoma cell line', 'growth suppression'): '', ('human colorectal adenocarcinoma', 'normal colorectal mucosa'): ' methods to determine bif-1 expression in human colorectal adenocarcinoma crc the authors performed immunohistochemistry using stage-oriented cancer tissue microarrays containing 102 crc samples of different stages and 38 samples of normal colorectal mucosa nr', ('hepatocellular carcinoma tissues', 'normal liver tissues'): ' results expression of epha7 protein was mainly located in the cytoplasm and the blood vessels of the septa which was found in hepatocellular carcinoma tissues their corresponding adjacent liver tissues and normal liver tissues', ('cell viability', 'ttc5'): '', ('plasmid transfection', 'siha cells'): ' control cell line b3 was obtained by blank plasmid transfection into siha cells', ('hepatocellular carcinoma cell line', 'biological behaviors'): ' objective to study the effect of reducing fak expression on the malignant biological behaviors of fak-overexpressed hepatocellular carcinoma cell line smmc-7721', ('cervical cancer cell line', 'glioma cell line'): 'methods cervical cancer cell line hela cells glioma cell line u251 cells and mouse hepatoma h22 tumor were used in this study', ('human hepatocellular carcinoma cell', 'hepatocellular carcinoma cell lines'): ' in vivo effects of ysv on 5 human hepatocellular carcinoma cell lines were assayed by hollow fiber tumor model', ('cell line hepg2', 'liver carcinoma'): '', ('normal lung fibroblasts', 'hep g2'): ' basal cytotoxicity of the compounds was determined on the following human cell lines normal lung fibroblasts mrc-5 gastric epithelial adenocarcinoma ags and hepatocellular carcinoma hep g2', ('mycn expression', 'positively correlated'): '', ('biological effect', 'btg1'): '', ('freshly isolated rat hepatocytes', 'cell viability'): '', ('ovarian cancer cell lines', 'ldoc1'): '', ('liver cancer cell lines', 'liver cancer cells'): ' this research investigated the expression of interleukin-13 receptor alpha2 il-13ralpha2 in different liver cancer cell lines and liver cancer tissues and assessed the cytotoxin dt389-hil13-13e13k il-13 and diphtheria toxin fusion protein targeted killing effect on liver cancer cells', ('normal colorectal tissues', 'normal liver tissues'): 'transmembrane neuregulin 1 tnrg1 her2 and her3 expression was analysed in primary crc n54 adjacent normal colorectal tissues n4 liver metastases n3 and adjacent normal liver tissues n3 by immunohistochemistry', ('liver carcinoma', 'breast cancer cell line'): '', ('cell line hepg2', 'recombinant adenoviral vector'): '', ('ldl subfractions', 'gml'): '', ('gst alpha', 'gsta4'): ' studies have shown that silencing the gsta4 gst alpha gene resulted in mitochondrial dysfunction as was also seen in gsta4 null mice which could contribute to insulin resistance in type 2 diabetes', ('proteome analysis', 'anxa4'): '', ('chang liver cells', 'liver cancer cells'): ' they had higher affinity for the liver cancer cells hepg2 cells than for the normal liver cells chang liver cells', ('cell line l02', 'hepatocellular carcinoma cell lines'): ' conclusions sg600-il24 selectively induces growth suppression and apoptosis in hepatocellular carcinoma cell lines in vitro but not in the normal liver cell line l02', ('mir145', 'tp53'): ' artificial overexpression of wild-type tp53 in pc-3 cells which lack tp53 protein and du145 cells in which mutated nonfunctioning tp53 is expressed significantly upregulated mir145 expression with consequent effects on bnip3 and cell behavior as with mir145 overexpression', ('hepatocellular carcinoma cell line', 'cell line a549'): ' hcov-emc was found to infect the human respiratory tract polarized airway epithelium cell line calu-3 embryonic fibroblast cell line hfl and lung adenocarcinoma cell line a549 kidney embryonic kidney cell line hek intestinal tract colorectal adenocarcinoma cell line caco-2 liver cells hepatocellular carcinoma cell line huh-7 and histiocytes malignant histiocytoma cell line his-1 as evident by detection of high or increasing viral load in culture supernatants detection of viral nucleoprotein expression by immunostaining andor detection of cytopathic effects', ('human nasopharyngeal carcinoma', 'cell cycle'): '', ('cell line hepg2', 'hepatocellular cancer'): '', ('mtt method', 'smmc7721 cells'): '', ('hepatocyte cell line', 'cell viability'): '', ('gastroprotective effect', 'afferent neurons'): '', ('transfection', 'magea2'): '', ('afferent neurons', 'usp5'): '', ('liver hepatocellular carcinoma', 'gastroprotective effect'): 'the new compounds were evaluated for their gastroprotective effect in the ethanolhcl-induced gastric lesions model in mice as well as for cytotoxicity using the following human cell lines normal lung fibroblasts mrc-5 gastric adenocarcinoma cells ags and liver hepatocellular carcinoma hep g2', ('mouse tissues', 'pcbp4'): '', ('hep g2', 'human hepatoma cell lines'): 'five different human hepatoma cell lines hep g2 hep g2', ('colorectal carcinoma cell lines', 'cdx1'): ' consistent with their divergent and variable expression we observed considerable heterogeneity among the epigenetic landscapes at cdx1 and ephb2-4 in a model of colorectal carcinoma cell lines', ('human colorectal adenocarcinoma', 'mdr1 mrna'): ' we used a 20-mer antisense oligonucleotide against human mdr1 mrna to study the mechanism of uptake of oligonucleotides by a human colorectal adenocarcinoma cell line hct-15', ('metastatic lung', 'lung adenocarcinomas'): '', ('gastroprotective effect', 'trpv1 antagonist'): ' moreover the gastroprotective effect of bb was effectively blocked in mice pretreated with trpv1 antagonist capsazepine by the non-selective cyclooxygenase inhibitor indomethacin or by the nitric oxide synthase inhibitor l-name but not by k+atp channel inhibitor glibenclamide', ('gastroprotective effect', 'gastric tissues'): ' the gastroprotective effect of rhizonyl alcohol 2 can be attributed to its antioxidant properties and its suppressing effect on neutrophil infiltration into gastric tissues', ('squamous cancer', 'clic4'): ' reduction of clic4 and several other clic family members by expressing a doxycycline-regulated clic4 antisense also causes apoptosis in squamous cancer cell lines', ('human colorectal adenocarcinoma', 'mammary adenocarcinoma'): '', ('liver hepatocellular carcinoma', 'cervical cancer cell line'): 'their antiproliferative activities on human epithelial cervical cancer cell line hela human liver hepatocellular carcinoma cell line hepg-2 and human gastric cancer cell line sgc-7901 were screened', ('siha cells', 'malat1'): ' knockdown of endogenous malat1 significantly reduced cell growth rate and invasion and increased cell apoptosis of hela and siha cells', ('low micromolar', 'micromolar range'): '', ('hepatocellular carcinoma cell lines', 'normal liver cells'): 'immunofluorescence microscopy and immunohistochemistry results showed that p120 catenin expressed at cell to cell contact region and at cell membrane in normal liver cells and in normal liver tissues while in hepatocellular carcinoma cell lines and in hepatocellular carcinoma tissues the molecule expression increased in cytosol membrane expression reduced and there was nuclear translocation', ('hepatocellular carcinoma cell lines', 'human breast cancer cell'): '', ('human colorectal adenocarcinoma', 'normoxic conditions'): '', ('poly ic', 'dhx33'): '', ('cervical cancer cell line', 'inhibited cell proliferation'): '', ('normal lung fibroblasts', 'fibroblastic foci'): ' thy-1 is a cell surface glycoprotein present on normal lung fibroblasts but absent from the fibroblastic foci of idiopathic pulmonary fibrosis', ('mdr1 mrna', 'glioma cell line'): ' the sequence specific rnai could inhibit mdr1 mrna and p-gp expression of the glioma cell line', ('gastric mucosal lesions', 'afferent neurons'): '', ('human hepatoma cell lines', 'expression profiles'): '', ('cell line l02', 'growth suppression'): '', ('gastric cancer cell lines', 'frzb'): '', ('cell line hepg2', 'cell line a431'): '', ('expression level', 'gnl3'): '', ('ligase iv', 'p53bp1'): 'pre-treatment of blood with g-002m resulted in reduction of gamma-h2ax and p53bp1 biomarkers levels and elevated ligase iv levels relative to non-g-002m-treated irradiated cells', ('liver hepatocellular carcinoma', 'cell line hepg2'): '', ('hepatocellular carcinoma cell lines', 'chang liver cells'): 'in contrast there was no expression of ck19 in chang liver cells or 2 of 5 hepatocellular carcinoma cell lines', ('hepatocellular cancer', 'meg3'): ' meg3 expression was markedly reduced in four human hepatocellular cancer hcc cell lines compared with normal hepatocytes by real-time pcr', ('human liver cells', 'hnrnpc'): ' among those involved in nucleic acid metabolism hnrnpc was found to interact in vitro and in vivo in human liver cells', ('siha cells', 'caski cells'): ' we found that caski cells that are heterozygous for the pik3ca-e545k mutation are more resistant to cisplatin or cisplatin plus radiation than either hela or siha cells that express only wild-type pik3ca', ('hep 3b', 'liver cancer cell lines'): ' here we examined the antiproliferation effect of resveratrol in two human liver cancer cell lines hep g2 and hep 3b', ('human myeloid leukemia', 'mlf1'): 'subcellular localization of full-length human myeloid leukemia factor 1 mlf1 is', ('human liver cancer cells', 'mat1a'): ' we have reported a switch from mat1a to mat2a gene expression in human liver cancer cells', ('hepatocellular carcinoma cell line', 'gastric cancer cell line'): ' cells from four human solid tumor cell lines including the mkn45 gastric cancer cell line the a375 malignant melanoma cell line the 8898 pancreatic carcinoma cell line and the hepg2 hepatocellular carcinoma cell line were treated with as4s4 in vitro using the l02 embryonic liver cells as a control', ('normal liver tissues', 'tspyl5'): 'methods the methylation levels of acp1 bmp4 and tspyl5 were analyzed in 188 hcc tissues 163 matched adjacent non-tumor tissues and 29 normal liver tissues using a method of methylation-sensitive restriction enzyme-based quantitative pcr and their associations with clinicopathological features and prognosis were evaluated', ('cell line hepg2', 'cell line u937'): '', ('human nasopharyngeal carcinoma', 'low metastatic'): ' cne2l2 highly metastatic and cne2l4 low metastatic clones were isolated from human nasopharyngeal carcinoma cne-2z cell line', ('hepatocellular carcinoma cell line', 'human nasopharyngeal carcinoma'): ' all four tylophorine analogs exerted potent growth-inhibitory effects against hepg2 a human hepatocellular carcinoma cell line and kb a human nasopharyngeal carcinoma cell line', ('liver carcinoma', 'proteome analysis'): '', ('hepatocellular carcinoma cell lines', 'nupr1'): ' objective to observe the expression of nuclear protein 1 nupr1 a stress-related nuclear protein in a panel of human hepatocellular carcinoma cell lines and its effects on the proliferation and migration of hepatocellular carcinoma cells by rna interference-mediated knockdown', ('inhibit cell proliferation', 'siha cells'): '', ('human colorectal adenocarcinoma', 'cytotoxic potential'): '', ('cervical cancer cell line', 'caski cells'): ' analysis of the data by the isobologram method shows a synergistic antiproliferative effect produced by the combination of mifepristone with cisplatin only in the hela cervical cancer cell line but not in caski cells', ('hepatocellular carcinoma cell lines', 'cell cycle'): '', ('liver cancer cell lines', 'normal liver tissues'): 'to study abnormalities of the fhit gene in human hepatocellular carcinoma hcc eight liver cancer cell lines 18 matched tumorous and non-tumorous tissues from patients with hcc and three normal liver tissues were analysed by microsatellite polymorphism analysis and reverse transcription of fhit mrna followed by polymerase chain reaction pcr amplification and sequencing of the products', ('cell line hepg2', 'apoe secretion'): '', ('human colorectal adenocarcinoma', 'cytotoxic properties'): '', ('dnk cells', 'pregnant uterus'): ' whether decidual nk dnk cells are able to play a similar role when the pregnant uterus is infected by viruses is still largely unknown', ('cholangiocarcinoma cell lines', 'sprr2a'): ' in this study we compare the in vivo local and metastatic growth potential of cholangiocarcinoma cell lines with respect to expression of a novel pstat3-dependent biliary epithelial cell wound healing protein small proline-rich protein 2a sprr2a', ('hepatocellular carcinoma cell line', 'luciferase reporter'): '', ('smmc7721 cells', 'mnt'): '', ('lung epithelial cells', 'lung scc'): '', ('akr1c1', 'tp53'): ' the collective application of polyunsaturated fatty acids pufas and irradiation significantly changed the expression of egr1 tnf-alpha notch1 c-myc tp53 hmox1 akr1c1 nqo1 while up-regulation of gadd45a egr1 grp78 ddit3 c-myc fosl1 were recorded both in response to pufa treatment or irradiation alone', ('liver carcinoma', 'cervical cancer cells'): '', ('hepatocellular carcinoma cell line', 'human breast cancer cell'): '', ('hepatocellular carcinoma cell lines', 'low metastatic'): 'swath-pseudo-iptl was also applied to the quantitative profiling of the proteome from human hepatocellular carcinoma cell lines with high and low metastatic potential and most of the differentially expressed proteins were related to tumorigenesis and tumor metastasis demonstrating the feasibility of this methodology for biological applications', ('constitutive nos', 'inducible nos'): '', ('growth suppression', 'chml'): '', ('human hepatoma cell lines', 'normal liver tissues'): '144 activity was determined in human hepatoma cell lines of hep3b and hepg2 and also compared with those of normal liver tissues and primary hepatocytes', ('cell line hepg2', 'cell line k562'): '', ('normal colorectal tissues', 'tissue samples'): '', ('mycn expression', 'cell cycle'): '', ('pmaip1', 'tp53'): ' zeb1 activates proliferation-associated hmgb2 uhrf1 cenpf myc mki67 and ccnd1 and anti-apoptotic mcl1 bcl2 and birc5 genes and inhibits pro-apoptotic ones tp53 bbc3 pmaip1 and bax', ('human hcc cell lines', 'expression level'): '', ('ic50 values', 'low micromolar'): '', ('micromolar range', 'vrk1'): '', ('human colorectal adenocarcinoma', 'cell cycle'): '', ('biological behaviors', 'meg3'): ' the lncrnas hcn3 linc01105 and meg3 may be important in biological behaviors of neuroblastoma through mechanisms involving p53 pathway members such as hif-1alpha noxa and bid', ('hepatocellular carcinoma cell lines', 'expression level'): '', ('cervical cancer cell line', 'cell line k562'): ' western blot demonstrated that asns was expressed in some cancer lines including human lymphoma cell line k562 and cervical cancer cell line hela', ('normal liver tissues', 'rps27a'): ' design and methods tissue microarray slides containing totally 80 cores with 19 tissues of hcc 1 tissue of hepatocholangiocarcinoma 10 tissues of liver cirrhosis and 10 normal liver tissues in duplicates were analyzed for expression of rps27a and yb-1 by immunohistochemistry', ('h441 cells', 'expression level'): '', ('hek 293t cells', 'short hairpin rna'): '', ('cytotoxic properties', 'poly ic'): '', ('liver hepatocellular carcinoma', 'hepatocellular carcinoma cell lines'): 'our group reported that corilagin could induce cell inhibition in human breast cancer cell line mcf-7 and human liver hepatocellular carcinoma cell lines hepg2', ('hepatocellular carcinoma cell line', 'pancreatic carcinoma cell line'): ' methods panc-1 a human pancreatic carcinoma cell line and hep 3b a human hepatocellular carcinoma cell line were exposed to l-arginase', ('human colon cancer cell', 'cdx1'): '', ('cell line hepg2', 'gst alpha'): '', ('cell cycle', 'mrpl41'): '', ('hepatocellular carcinoma cell lines', 'invasion ability'): '1 into hepatocellular carcinoma cell lines compared with the blank plasmid group the cell viability and invasion ability in the wif1 group were all reduced p < 0', ('transfection efficiency', 'plasmid transfection'): '', ('normal colorectal mucosa', 'expression level'): '', ('human colorectal adenocarcinoma', 'potent cytotoxicity'): ' jasplakinolide b 11 exhibited potent cytotoxicity gi50 < 1 nm vs human colorectal adenocarcinoma hct-116 cells but did not exhibit microfilament-disrupting activity at 80 nm', ('hep g2', 'h441 cells'): ' a plasmid construct containing human sp-b fragment -1039+431 linked to chloramphenicol acetyltransferase cat reporter gene was readily expressed in h441 cells which are derived from a human lung adenocarcinoma but was < 4 as active in hep g2 hela and calu 6 cell lines', ('hepatocellular carcinoma cell lines', 'hepatocyte cell line'): ' normal murine hepatocyte cell line had more resistance to xanthohumol than hepatocellular carcinoma cell lines', ('l6 cells', 's100a1'): ' analysis of an s100a1 promoter-cat construct by ribonuclease protection assay demonstrated that this gene is functional in three s100a1 expressing cell lines c6 cells pc12 cells and l6 cells', ('gastric cancer cell line', 'frzb'): 'effects of frzb on growth and metastasis of gastric cancer cell line sgc-7901', ('h441 cells', 'transfection'): '', ('hep g2', 'igf binding protein'): ' the primary structure of an insulin-like growth factor igf binding protein produced by human hep g2 hepatoma cells has been deduced from the cdna sequence', ('hepatocellular carcinoma cell lines', 'positively correlated'): '', ('glioma cell line', 'sfrp4'): ' we examined the effect of secreted frizzled-related protein 4 sfrp4 a wnt signaling antagonist in chemosensitizing the glioma cell line u138mg and glioma stem cells gscs enriched from u138mg to chemotherapeutics', ('gastroprotective effect', 'gastric mucosal lesions'): ' in the present study we examined the gastroprotective effect of selenium against ethanol-induced gastric mucosal lesions in rats', ('transfection efficiency', 'transfection procedure'): '', ('gastric tissues', 'gastric cancer cell lines'): '', ('hepatocellular carcinoma tissues', 'proteome analysis'): '', ('liver hepatocellular carcinoma', 'ic50 values'): '', ('cervical cancer cell line', 'gastric cancer cell lines'): '', ('hep 3b', 'transfection'): '', ('hepatocellular carcinoma cell line', 'induced apoptosis'): '', ('smmc7721 cells', 'inhibited cell proliferation'): '', ('inhibited cell proliferation', 'mir145'): '', ('ic50 values', 'hela cell lines'): '', ('plasmid transfection', 'gastric cancer cell lines'): '', ('hepatocellular carcinoma cell lines', 'breast cancer cell line'): '', ('hepatocellular carcinoma cell line', 'normal human liver'): ' in this study etoposide-induced signaling events in human hepatocellular carcinoma cell line hep g2 has been compared with chang liver cells a normal human liver cell line', ('hep g2', 'hek 293t cells'): 'the interactions of anionic glycopolymers with hep g2 and hek 293t cells were then studied as a function of time', ('cervical cancer cell line', 'apoptosis inducing'): ' in the present study the apoptosis inducing potential of vp3 protein of cav was evaluated in human cervical cancer cell line hela', ('liver hepatocellular carcinoma', 'human cell lines'): '', ('western blot', 'protein expressions'): '', ('normal human liver', 'normal liver tissues'): ' methods genomic dna was extracted from 20 hcc tissues and its adjacent tissues 15 normal liver tissues 5 liver cancer cell lines plcprf5 smmc-7721 hepg2 hep3b sk-hep-1 and 2 normal human liver cell lines changliver hl7702', ('cell line hepg2', 'human primary hepatocytes'): '', ('epithelial carcinoma cells', 'cell viability'): '', ('human hepatocellular carcinoma cell', 'cell cycle distribution'): '', ('short hairpin rna', 'gcsh'): '', ('cell line k562', 'rps27a'): ' this study was purposed to explore the function of rps27a in cml-erythroleukemia cell line k562 cells', ('mycn expression', 'expression level'): '', ('zinc finger genes', 'znf91'): 'the znf91 gene family a subset of the kruppel-associated box krab-containing group of zinc finger genes comprises more than 40 loci; most reside on human chromosome 19p12-p13', ('cytotoxic potential', 'dn t cells'): '', ('hep g2', 'human hcc cell lines'): 'we investigated the effect of various bcaa concentrations in culture medium on the growth and metabolism of two human hcc cell lines hep g2 and kyn-1', ('ldl subfractions', 'positively correlated'): '', ('human breast cancer cell', 'cell lines displaying'): '', ('hepatocellular cancer', 'mir34a'): ' lactate dehydrogenase a ldha which is a key enzyme in the glycolysis signaling pathway was found to be a target of mir34a in hepatocellular cancer cells', ('fibroblastic foci', 'wnt7b'): ' ipf lung showed strong wnt7b reactivity in fibroblastic foci dysplastic airway and alveolar epithelium and in highly discrete subepithelial basement membrane-associated regions', ('liver hepatocellular carcinoma', 'hep g2'): 'the toxicity and transfection efficiency of the polyplexes has been evaluated with hep g2 human liver hepatocellular carcinoma cells; several polymers displayed excellent delivery and toxicity profiles justifying their further development for in vivo gene therapy', ('hepatocellular carcinoma cell line', 'hep 3b'): ' chronic ethanol-treated cells were established by consecutively culturing a human hepatocellular carcinoma cell line hep 3b which contains integrated hbv sequences for 20-40 passages with or without 10 mm ethanol designated as e20-e40 and c20-c40 respectively', ('inducible nos', 'adnp'): '', ('hepg2 cell line', 'short hairpin rna'): '', ('normal human liver', 'human liver cells'): ' methods angptl4 cdna was cloned in vitro from normal human liver cells hl-7702 by using rt-pcr and then subcloned into the plasmid vector pmscv and sequenced', ('cell line hct116', 'gastric cancer cell line'): ' salternamide a 1 which is the first chlorinated compound in the manumycin family exhibited potent cytotoxicity against a human colon cancer cell line hct116 and a gastric cancer cell line snu638 with submicromolar ic50 values', ('lung adenocarcinomas', 'bptf'): '', ('cell line hepg2', 'human myeloid leukemia'): '', ('hepatocellular carcinoma cell line', 'pancreatic cancer cell line'): ' bovine alpha1-3 galactosyltransferase alpha1-3 gt cdna which produces the alphagal epitope was electrophoretically transfected into the human pancreatic cancer cell line mia paca-2 and the human hepatocellular carcinoma cell line huh7', ('hepatocellular carcinoma cell line', 'biological effect'): '', ('cell line hct116', 'cell cycle'): '', ('colony formation assays', 'pvt1'): ' the effect of pvt1 on proliferation was evaluated by mtt and colony formation assays and cell apoptosis was evaluated by flow-cytometric analysis', ('protein expressions', 'pgam1'): '', ('biological behaviors', 'maspin expression'): ' maspin expression can be considered as an effective and objective marker to reveal biological behaviors of gastric cancer', ('human cell lines', 'dfna5'): '', ('liver cancer cells', 'akr1c2'): ' through deep sequencing and expression regulation analysis in liver cancer cells we identified two novel factors akr1c2 positive factor and nf1 negative factor as the aeg-1 downstream players in the process of metastasis in liver cancer', ('human nasopharyngeal carcinoma', 'short hairpin rna'): '', ('cytotoxic potential', 'colony formation assays'): '', ('hepatocellular carcinoma cell line', 'cell line hepg2'): '', ('ovarian carcinoma cell lines', 'growth suppression'): '', ('cell lines displaying', 'vimentin expression'): 'examining several breast tumor cell lines displaying various degrees of invasiveness we found sip1 and vimentin expression only in invasive cell lines', ('cervical cancer cell line', 'cervical cancer cells'): '', ('human cell lines', 'zinc finger genes'): '', ('cancer cell lines', 'unc5a'): '', ('hepatocellular carcinoma cell line', 'breast cancer cell line'): '', ('induced apoptotic cell death', 'inhibited cell proliferation'): '', ('positively correlated', 'itln1'): '', ('cell line l02', 'liver cancer cell lines'): ' results the 1iver cell line l02 showed significantly higher muc15 expression level than the liver cancer cell lines hepg2 mhcc-97h and smmc-7721 p<0', ('hepatocellular carcinoma cell lines', 'transfected cell lines'): ' when all hbv-containing cell lines were grown as tumours in nude mice no hbeag was detected in the serum of these mice inoculated with human hepatocellular carcinoma cell lines in the tumour homogenates or in the tumour-derived lines whereas e antigen was expressed both in vivo and in vitro in the experimentally transfected cell lines', ('human gastric adenocarcinoma', 'maspin expression'): 'we studied maspin expression in 30 cases of human gastric adenocarcinoma using immunohistochemistry and reverse transcription-polymerase chain reaction', ('human hepatocellular carcinoma cell', 'biological effect'): '', ('pancreatic cancer cell line', 'inhibited cell proliferation'): '', ('liver cancer cells', 'mat1a'): ' mat1a is expressed only in the mature liver whereas fetal hepatocytes extrahepatic tissues and liver cancer cells express mat2a', ('liver cancer cell lines', 'xaf1'): \" results xaf1 transcripts were not observed or present at low levels in liver cancer cell lines and were restored by treatment with demethylating agent 5-aza-2'-deoxycytidine 5-aza-dc\", ('invasion ability', 'siha cells'): ' the changes of cell proliferation cell cycle and invasion ability of the siha cells were determined by cck-8 kit flow cytometry and boyden chamber assay', ('cell line hct116', 'human colon cancer cell'): '', ('potent cytotoxicity', 'cancer cell lines'): '', ('hepatocellular carcinoma cell line', 'transplanted tumor'): ' methods human hepatocellular carcinoma cell line smmc-7721 and the high metastatic nude mice human hcc in situ transplantation model was taken as the objects of study the effects of ati on the smmc-7721 cell movement and migration its adhesion with fibronectin fn and endothelial cell ec as well as the cd44 and mmp-2 gene protein expression in transplanted tumor of the model mice were observed by means of cell movement and migration test cell adhesion test and immunohistochemical method', ('liver hepatocellular carcinoma', 'transfection efficiency'): '', ('normal lung fibroblasts', 'cell cycle'): '', ('hepatocellular carcinoma cell lines', 'normal liver tissues'): 'immunofluorescence microscopy and immunohistochemistry results showed that p120 catenin expressed at cell to cell contact region and at cell membrane in normal liver cells and in normal liver tissues while in hepatocellular carcinoma cell lines and in hepatocellular carcinoma tissues the molecule expression increased in cytosol membrane expression reduced and there was nuclear translocation', ('normal colorectal tissues', 'expression level'): '', ('igf binding protein', 'transcript levels'): '', ('hepatocellular carcinoma cell lines', 'cholangiocarcinoma cell lines'): ' three of 5 hepatocellular carcinoma cell lines released cyfra 21-1 synthesized ck19 protein and expressed mrna for ck19 as observed in 2 cholangiocarcinoma cell lines', ('gastric cancer cell line', 'human colon cancer cell'): '', ('transcript levels', 'rpl7'): '', ('hep g2', 'hep 3b cells'): ' results doses of tp-1 up to 100 microgramsml produced no cytotoxicity against hep g2 or hep 3b cells', ('inhibited cell proliferation', 'tug1'): '', ('human gastric adenocarcinoma', 'tissue samples'): '', ('smmc7721 cells', 'cell cycle distribution'): '', ('hpv16 e6', 'ptpn13'): ' we have previously demonstrated that the hpv16 e6 oncoprotein binds ptpn13 and leads to its degradation', ('cell line hepg2', 'hcc cell line'): '', ('hepatocellular carcinoma cell line', 'cell line hct116'): ' the cytotoxicity of the plant extracts was evaluated against human hepatocellular carcinoma cell line hepg2 and colon carcinoma cell line hct116 in comparison to doxorubicin', ('hep 3b', 'cell viability'): '', ('hcc cell line', 'inhibited cell proliferation'): '', ('hek 293t cells', 'transfection'): '', ('cell line hepg2', 'ahr expression'): '', ('human colorectal adenocarcinoma', 'expression profiles'): '', ('hepatocellular cancer', 'btg1'): ' immunohistochemistry and western blot were used to analyze btg1 protein expression in 70 cases of hepatocellular cancer and 32 cases of normal tissues to study the relationship between btg1 expression and clinical factors', ('liver hepatocellular carcinoma', 'hepatocellular carcinoma cell line'): 'monolayer and spheroid culture of human liver hepatocellular carcinoma cell line', ('ahr expression', 'lung adenocarcinomas'): '', ('growth suppression', 'ei24'): '', ('caski cells', 'arl6ip1'): ' exogenous expression of arl6ip1 suppressed cisplatin-induced apoptosis in caski cells and sirna-induced silencing of arl6ip1 triggered apoptosis in caski cells even in the absence of other apoptotic stimuli', ('apoe secretion', 'pltp'): ' exogenous addition of recombinant pltp to primary human astrocytes significantly increased apoe secretion to the conditioned medium', ('hepatocellular carcinoma cell line', 'ovarian cancer cell lines'): '', ('normal lung fibroblasts', 'gastric epithelial'): ' the antiproliferative activity of the new compounds was assessed towards human cell lines namely normal lung fibroblasts mrc-5 gastric epithelial adenocarcinoma ags lung cancer sk-mes-1 and bladder carcinoma j82 cells', ('hep g2', 'smmc7721 cells'): ' we demonstrated that arg could induce apoptosis in hep g2 and smmc7721 cells but not in normal hepatic cells and its apoptotic effect on hep g2 was stronger than that on smmc7721', ('luciferase reporter', 'rpl30'): '', ('ags cells', 'gastric cancer cell line'): '', ('normal lung fibroblasts', 'lung epithelial cells'): '', ('hepatocellular carcinoma cell line', 'mtt method'): '', ('cell cycle distribution', 'btg1'): '', ('transfection procedure', 'cell viability'): '', ('hep g2', 'ldl subfractions'): ' cell specific association stimulation of cholesterol esterification and inhibition of sterol synthesis were determined in parallel after incubation of hep g2 cells with increasing amounts of ldl-protein of the three ldl subfractions', ('cytotoxic properties', 'ovarian carcinoma cell lines'): '', ('hepatocellular carcinoma cell lines', 'protein expressions'): '', ('melanoma progression', 'bptf'): 'the role of bptf in melanoma progression and in response to braf-targeted', ('potent cytotoxicity', 'low micromolar'): '', ('hepatocellular carcinoma cell lines', 'cell cycle distribution'): '', ('tissue samples', 'linc00261'): '', ('lung cancer tissues', 'emt markers'): 'methods the relationship between dal-1 and emt markers were analyzed by using immunohistochemistry in the clinical lung cancer tissues', ('breast cancer cell line', 'ube2q1'): '', ('hepatocellular carcinoma cell line', 'inhibit cell proliferation'): '', ('wnt7b', 'tp53'): ' in addition overexpressed human tp53 was capable of inducing marked wnt7b expression in neuronal pc12 cells but tp53 overexpression did not elevate wnt7b levels in several tested human tumor cell lines', ('low metastatic', 'rassf6'): ' over-expression of rassf6 in highly metastatic npc cells could enhance the phosphorylation of jnk when exposed to cisplatin or radiation treatment while knocking down rassf6 in low metastatic npc cells could reduce the level of phospho-jnk when exposed to the same treatments', ('transplanted tumor', 'xaf1'): ' twenty nude mice were randomly divided into groups a and b 10 in each group a549 xaf1 stable expression cell strain was subcutaneously injected in group a and a549ctrl stable cell line stable expression cell strain in group b control group to observe transplanted tumor growth in nude mice', ('cell line hct116', 'expression profiles'): '', ('hepatocellular carcinoma cell line', 'amelanotic melanoma'): ' methanolic extract and pure compounds were tested against the large cell lung carcinoma cell line cor-l23 the hepatocellular carcinoma cell line hepg-2 renal cell adenocarcinoma achn the amelanotic melanoma cell line c32 and normal human foetal lung mrc5', ('hepg2 cell line', 'hepatocellular cancer'): ' recombinant lentiviral vector was constructed to overexpress btg1 and then infect hepatocellular cancer hepg2 cell line', ('hepatocellular carcinoma cell lines', 'tissue samples'): '', ('liver carcinoma', 'akr1c1'): ' these results indicate that the nf-y regulates the basal transcription of akr1c1 in human ovarian lung and liver carcinoma cells and the cisplatin-induced transcription in human ovarian carcinoma cells', ('liver cancer cell lines', 'expression level'): '', ('gastroprotective effect', 'ags cells'): '', ('human hepatocellular carcinoma cell', 'transplanted tumor'): ' methods human hepatocellular carcinoma cell line smmc-7721 and the high metastatic nude mice human hcc in situ transplantation model was taken as the objects of study the effects of ati on the smmc-7721 cell movement and migration its adhesion with fibronectin fn and endothelial cell ec as well as the cd44 and mmp-2 gene protein expression in transplanted tumor of the model mice were observed by means of cell movement and migration test cell adhesion test and immunohistochemical method', ('cytotoxic potential', 'l6 cells'): '', ('cell line hepg2', 'human liver cells'): '', ('hep g2', 'epithelial carcinoma cells'): ' human cervical cancer cells hela human breast adenocarcinoma cells mcf-7 human laryngeal epithelial carcinoma cells hep-2 human liver carcinoma cells hep g2 and non-cancerous nih 3t3 mouse embryonic fibroblasts cell lines reveals that complex 1 exhibits a better anticancer activity than other complexes and standards', ('hepatocellular carcinoma cell line', 'hepg2 cell line'): 'all of the isolated triterpenoids 1-10 were evaluated for their in vitro cytotoxicities against hepg2 human hepatocellular carcinoma cell line and compounds 1 3-7 and 10 exhibited moderate antiproliferative effects against hepg2 cell line with ic50 ranging from 18', ('mycn expression', 'cell viability'): '', ('hepatocellular carcinoma cell lines', 'growth suppression'): '', ('hepatocellular carcinoma cell line', 'gastric cancer cell lines'): '', ('human hcc cell lines', 'cell cycle'): '', ('normal liver cells', 'human liver cancer cells'): ' methods the study used human liver cancer cells hepg2 and normal liver cells hflf-pi4 to evaluate cell viability using the standard 2-4 5-dimethyl-2-thiazolyl-35-diphenyl-2h-tetrazolium bromide mtt assay', ('emt markers', 'bptf'): 'moreover bptf expression was significantly associated with emt markers vimentin and e-cadherin', ('human colorectal adenocarcinoma', 'normal colorectal tissues'): 'using real-time pcr we examined set gene expression in human colorectal adenocarcinoma tissues and matched normal colorectal tissues', ('expression level', 'edil3'): '', ('cell line u937', 'cell line k562'): ' all target compounds were determined against the human acute monocytic leukemia cell line u937 and the human chronic myeloid leukemia cell line k562 in vitro', ('hepatocellular carcinoma cell line', 'cell line l02'): ' in our study we found that the expression level of mir-590-5p is higher in the human hepatocellular carcinoma cell line hepg2 than in the normal hepatocellular cell line l02', ('cell cycle distribution', 'colony formation assays'): '', ('hep g2', 'freshly isolated rat hepatocytes'): ' a flow-through system was used to study the cellular pharmacokinetics of 5-fluorouracil 5-fu in four human cell lines squamous-cell carcinoma hep-2 colon carcinoma widr hepatoma hep g2 and breast carcinoma mcf-7 as well as in the rat hepatoma h35 cell line and in freshly isolated rat hepatocytes', ('biological behaviors', 'lung cancer tissues'): ' objective to determine the expression of proteasome aotivator gamma reggamma in human lung cancer tissues and cell lines and its association with malignant biological behaviors', ('cervical cancer cells', 'trim29'): '', ('human cell lines', 'ligase iv'): ''}\n"
     ]
    }
   ],
   "source": [
    "print SenGene_obj.edge2sent"
   ]
  },
  {
   "cell_type": "code",
   "execution_count": null,
   "metadata": {
    "collapsed": true
   },
   "outputs": [],
   "source": [
    "~"
   ]
  },
  {
   "cell_type": "code",
   "execution_count": null,
   "metadata": {
    "collapsed": true
   },
   "outputs": [],
   "source": [
    "print 'this is a \" book'"
   ]
  },
  {
   "cell_type": "code",
   "execution_count": null,
   "metadata": {
    "collapsed": true
   },
   "outputs": [],
   "source": [
    "a='sb'\n",
    "\n",
    "print a+'\"'"
   ]
  },
  {
   "cell_type": "code",
   "execution_count": null,
   "metadata": {
    "collapsed": true
   },
   "outputs": [],
   "source": [
    "import scipy.stats as stats\n",
    "tab = [[100,1],[2,100]]\n",
    "odds,pv = stats.fisher_exact(tab,alternative='greater')\n",
    "print odds,pv"
   ]
  },
  {
   "cell_type": "code",
   "execution_count": 20,
   "metadata": {
    "ExecuteTime": {
     "end_time": "2018-05-29T15:13:15.626159Z",
     "start_time": "2018-05-29T15:13:15.472557Z"
    },
    "collapsed": true
   },
   "outputs": [],
   "source": [
    "import torchtext"
   ]
  },
  {
   "cell_type": "code",
   "execution_count": 21,
   "metadata": {
    "ExecuteTime": {
     "end_time": "2018-05-29T15:25:28.828553Z",
     "start_time": "2018-05-29T15:23:16.037469Z"
    }
   },
   "outputs": [
    {
     "ename": "NameError",
     "evalue": "name 'data' is not defined",
     "output_type": "error",
     "traceback": [
      "\u001b[0;31m---------------------------------------------------------------------------\u001b[0m",
      "\u001b[0;31mNameError\u001b[0m                                 Traceback (most recent call last)",
      "\u001b[0;32m<ipython-input-21-21a88b135cf4>\u001b[0m in \u001b[0;36m<module>\u001b[0;34m()\u001b[0m\n\u001b[0;32m----> 1\u001b[0;31m pos = data.TabularDataset(\n\u001b[0m\u001b[1;32m      2\u001b[0m    \u001b[0mpath\u001b[0m\u001b[0;34m=\u001b[0m\u001b[0;34m'data/pos/pos_wsj_train.tsv'\u001b[0m\u001b[0;34m,\u001b[0m \u001b[0mformat\u001b[0m\u001b[0;34m=\u001b[0m\u001b[0;34m'tsv'\u001b[0m\u001b[0;34m,\u001b[0m\u001b[0;34m\u001b[0m\u001b[0m\n\u001b[1;32m      3\u001b[0m fields=[('text', data.Field()),\n\u001b[1;32m      4\u001b[0m             ('labels', data.Field())])\n",
      "\u001b[0;31mNameError\u001b[0m: name 'data' is not defined"
     ]
    }
   ],
   "source": [
    "pos = data.TabularDataset(\n",
    "   path='data/pos/pos_wsj_train.tsv', format='tsv',\n",
    "fields=[('text', data.Field()),\n",
    "            ('labels', data.Field())])"
   ]
  },
  {
   "cell_type": "code",
   "execution_count": 22,
   "metadata": {
    "ExecuteTime": {
     "end_time": "2018-05-29T17:15:18.017557Z",
     "start_time": "2018-05-29T17:15:17.963648Z"
    },
    "collapsed": true
   },
   "outputs": [],
   "source": [
    "a=1"
   ]
  },
  {
   "cell_type": "code",
   "execution_count": null,
   "metadata": {
    "collapsed": true
   },
   "outputs": [],
   "source": []
  }
 ],
 "metadata": {
  "kernelspec": {
   "display_name": "Python 2",
   "language": "python",
   "name": "python2"
  },
  "language_info": {
   "codemirror_mode": {
    "name": "ipython",
    "version": 2
   },
   "file_extension": ".py",
   "mimetype": "text/x-python",
   "name": "python",
   "nbconvert_exporter": "python",
   "pygments_lexer": "ipython2",
   "version": "2.7.14"
  }
 },
 "nbformat": 4,
 "nbformat_minor": 2
}
